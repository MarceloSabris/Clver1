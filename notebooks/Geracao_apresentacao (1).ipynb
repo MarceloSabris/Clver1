{
 "cells": [
  {
   "cell_type": "code",
   "execution_count": 1,
   "id": "9852ae6c",
   "metadata": {},
   "outputs": [
    {
     "name": "stderr",
     "output_type": "stream",
     "text": [
      "2021-08-21 19:26:30.253564: W tensorflow/stream_executor/platform/default/dso_loader.cc:60] Could not load dynamic library 'libcudart.so.11.0'; dlerror: libcudart.so.11.0: cannot open shared object file: No such file or directory; LD_LIBRARY_PATH: /opt/conda/lib\n",
      "2021-08-21 19:26:30.253711: I tensorflow/stream_executor/cuda/cudart_stub.cc:29] Ignore above cudart dlerror if you do not have a GPU set up on your machine.\n"
     ]
    },
    {
     "name": "stdout",
     "output_type": "stream",
     "text": [
      "fim\n"
     ]
    }
   ],
   "source": [
    "\n",
    "import numpy as np\n",
    "import pandas as pd   \n",
    "import os\n",
    "from pathlib import Path\n",
    "import glob\n",
    "import json\n",
    "import tensorflow as tf\n",
    "import tensorflow_datasets as tfds\n",
    "import os\n",
    "import nltk\n",
    "import cv2\n",
    "import matplotlib.pyplot as plt\n",
    "import random\n",
    "from tensorflow.keras.layers.experimental import preprocessing\n",
    "\n",
    "print('fim')"
   ]
  },
  {
   "cell_type": "code",
   "execution_count": 2,
   "id": "6a32ac54",
   "metadata": {},
   "outputs": [
    {
     "name": "stdout",
     "output_type": "stream",
     "text": [
      "2.4.1\n"
     ]
    },
    {
     "ename": "ModuleNotFoundError",
     "evalue": "No module named 'keras'",
     "output_type": "error",
     "traceback": [
      "\u001b[0;31m---------------------------------------------------------------------------\u001b[0m",
      "\u001b[0;31mModuleNotFoundError\u001b[0m                       Traceback (most recent call last)",
      "\u001b[0;32m/tmp/ipykernel_134/1453124600.py\u001b[0m in \u001b[0;36m<module>\u001b[0;34m\u001b[0m\n\u001b[1;32m      1\u001b[0m \u001b[0mprint\u001b[0m\u001b[0;34m(\u001b[0m\u001b[0mtf\u001b[0m\u001b[0;34m.\u001b[0m\u001b[0m__version__\u001b[0m\u001b[0;34m)\u001b[0m\u001b[0;34m\u001b[0m\u001b[0;34m\u001b[0m\u001b[0m\n\u001b[0;32m----> 2\u001b[0;31m \u001b[0;32mfrom\u001b[0m \u001b[0mkeras\u001b[0m\u001b[0;34m.\u001b[0m\u001b[0mbackend\u001b[0m \u001b[0;32mimport\u001b[0m \u001b[0mmanual_variable_initialization\u001b[0m\u001b[0;34m\u001b[0m\u001b[0;34m\u001b[0m\u001b[0m\n\u001b[0m\u001b[1;32m      3\u001b[0m \u001b[0mmanual_variable_initialization\u001b[0m\u001b[0;34m(\u001b[0m\u001b[0;32mTrue\u001b[0m\u001b[0;34m)\u001b[0m\u001b[0;34m\u001b[0m\u001b[0;34m\u001b[0m\u001b[0m\n",
      "\u001b[0;31mModuleNotFoundError\u001b[0m: No module named 'keras'"
     ]
    }
   ],
   "source": [
    "print(tf.__version__)\n",
    "from keras.backend import manual_variable_initialization\n",
    "manual_variable_initialization(True)"
   ]
  },
  {
   "cell_type": "code",
   "execution_count": 3,
   "id": "7bf7a352",
   "metadata": {},
   "outputs": [],
   "source": [
    "def GravarArquivo ( data_dict,fname):\n",
    "    fname = fname +\"_\" +str(len(data_dict)) + '.json'\n",
    "    print(\"gravar arquivo: \" + fname + \" qtd: \" +  str(len(data_dict)))\n",
    "    os.makedirs('Percentage_'+ str(percentageData) , exist_ok=True)\n",
    "    fname = 'Percentage_'+ str(percentageData) + \"/\" + fname\n",
    "    # Create file\n",
    "    with open(fname, 'w') as outfile:\n",
    "        json.dump(data_dict, outfile, ensure_ascii=False, indent=4) \n",
    "        outfile.close()"
   ]
  },
  {
   "cell_type": "code",
   "execution_count": 4,
   "id": "0d65f8a2",
   "metadata": {},
   "outputs": [],
   "source": [
    "def plot_loss(history):\n",
    "            plt.plot(history.history['loss'], label='training loss')\n",
    "            plt.plot(history.history['val_loss'], label=' validation loss')\n",
    "            #plt.ylim([0, 10])\n",
    "            plt.xlabel('Epopch')\n",
    "            plt.ylabel('Error')\n",
    "            plt.legend()\n",
    "            plt.grid(True)\n",
    "            plt.savefig( 'Percentage_'+ str(percentageData) + '/error_datalenght.png')\n",
    "            plt.show()\n",
    "\n",
    "def plot_acc(history):  \n",
    "            plt.plot(history.history['sparse_categorical_accuracy'])\n",
    "            plt.plot(history.history['val_sparse_categorical_accuracy'])\n",
    "            plt.title('model accuracy')\n",
    "            plt.ylabel('accuracy')\n",
    "            plt.xlabel('epoch')\n",
    "            plt.legend(['train', 'val'], loc='upper left')\n",
    "            plt.grid(True)\n",
    "            plt.savefig('Percentage_'+ str(percentageData) + '/accuracy_datalenght.png')\n",
    "            plt.show()"
   ]
  },
  {
   "cell_type": "code",
   "execution_count": 5,
   "id": "b16bccc7",
   "metadata": {},
   "outputs": [
    {
     "name": "stdout",
     "output_type": "stream",
     "text": [
      "Number of GPUs : 0\n",
      "Tensorflow GPU : True\n"
     ]
    },
    {
     "name": "stderr",
     "output_type": "stream",
     "text": [
      "2021-08-20 03:34:57.242079: I tensorflow/compiler/jit/xla_cpu_device.cc:41] Not creating XLA devices, tf_xla_enable_xla_devices not set\n",
      "2021-08-20 03:34:57.242731: W tensorflow/stream_executor/platform/default/dso_loader.cc:60] Could not load dynamic library 'libcuda.so.1'; dlerror: libcuda.so.1: cannot open shared object file: No such file or directory; LD_LIBRARY_PATH: /opt/conda/lib\n",
      "2021-08-20 03:34:57.242801: W tensorflow/stream_executor/cuda/cuda_driver.cc:326] failed call to cuInit: UNKNOWN ERROR (303)\n",
      "2021-08-20 03:34:57.242860: I tensorflow/stream_executor/cuda/cuda_diagnostics.cc:156] kernel driver does not appear to be running on this host (6ed01e512f6d): /proc/driver/nvidia/version does not exist\n"
     ]
    }
   ],
   "source": [
    "#Check GPU is available for training or not Or whether the tensorflow version can utilize gpu \n",
    "physical_devices = tf.config.list_physical_devices('GPU') \n",
    "print(\"Number of GPUs :\", len(physical_devices)) \n",
    "print(\"Tensorflow GPU :\",tf.test.is_built_with_cuda())\n",
    "if len(physical_devices)>0:\n",
    "    device=\"/GPU:0\"\n",
    "else:\n",
    "    device=\"/CPU:0\"\n",
    "percentageData = 0.10\n",
    "posTrainList=[]\n",
    "posValList=[]\n",
    "BATCH_SIZE=1\n",
    "IMG_SIZE=(200,200)\n",
    "QtdEpocasGravarCHKP = 10\n",
    "Epochs = 60\n",
    "lenghtDataTrain = 0\n",
    "lenghtDataVal =0"
   ]
  },
  {
   "cell_type": "code",
   "execution_count": 6,
   "id": "3f26b732",
   "metadata": {},
   "outputs": [
    {
     "name": "stdout",
     "output_type": "stream",
     "text": [
      "oi\n",
      "699\n",
      "fim\n"
     ]
    }
   ],
   "source": [
    "trainList=[]\n",
    "\n",
    "with open('/home/jupyter/input/clevr-dataset/CLEVR_v1.0/questions/CLEVR_train_questions.json') as f:\n",
    "    print('oi')\n",
    "    data = json.load(f)\n",
    "    lenghtDataTrain = int(len(data['questions']) * (percentageData/100))\n",
    "    print(lenghtDataTrain)\n",
    "    for K in range(lenghtDataTrain):\n",
    "        i = data['questions'][K]\n",
    "       \n",
    "        temp=[]\n",
    "        for path in glob.glob('/home/jupyter/input/clevr-dataset/CLEVR_v1.0/images/train/'+i['image_filename']): \n",
    "            temp.append(path)\n",
    "           \n",
    "        temp.append(i['question'])\n",
    "        temp.append(i['answer'])\n",
    "        trainList.append(temp)\n",
    "        posTrainList.append(K)\n",
    "f.close()\n",
    "labels=['Path','Question','Answer']\n",
    "train_dataframe = pd.DataFrame.from_records(trainList, columns=labels)#training Dataframe \n",
    "del(data)\n",
    "del(trainList)\n",
    "print('fim')\n"
   ]
  },
  {
   "cell_type": "code",
   "execution_count": 7,
   "id": "13fadf33",
   "metadata": {},
   "outputs": [
    {
     "name": "stdout",
     "output_type": "stream",
     "text": [
      "passou carregou\n"
     ]
    }
   ],
   "source": [
    "valList=[]\n",
    "with open('/home/jupyter/input/clevr-dataset/CLEVR_v1.0/questions/CLEVR_val_questions.json') as f:\n",
    "    data = json.load(f)\n",
    "    lenghtDataVal = int(len(data['questions']) * (percentageData/100))\n",
    "    for K in range(lenghtDataVal):\n",
    "    \n",
    "       \n",
    "        i = data['questions'][K]\n",
    "        \n",
    "        temp=[]\n",
    "        for path in glob.glob('/home/jupyter/input/clevr-dataset/CLEVR_v1.0/images/val/'+i['image_filename']): \n",
    "            temp.append(path)\n",
    "        temp.append(i['question'])\n",
    "        temp.append(i['answer'])\n",
    "        valList.append(temp)\n",
    "        posValList.append(K)\n",
    "f.close() \n",
    "\n",
    "val_dataframe = pd.DataFrame.from_records(valList, columns=labels)#validation Dataframe\n",
    "del(data)\n",
    "del(valList)\n",
    "val_dataframe.head()\n",
    "print('passou carregou')"
   ]
  },
  {
   "cell_type": "code",
   "execution_count": null,
   "id": "b3ae0dc0",
   "metadata": {},
   "outputs": [],
   "source": []
  },
  {
   "cell_type": "code",
   "execution_count": 8,
   "id": "7ed2c565",
   "metadata": {},
   "outputs": [
    {
     "name": "stdout",
     "output_type": "stream",
     "text": [
      "oi\n",
      "699989\n",
      "fim\n",
      "Testing the Encoder with sample questions - \n",
      " \n",
      "Original Text = Is the color of the large sphere the same as the large matte cube?\n",
      "After Encoding = [73, 41, 38, 58, 41, 43, 51, 41, 49, 33, 41, 43, 82, 29]\n"
     ]
    }
   ],
   "source": [
    "vocab_set=set()#set object used to store the vocabulary\n",
    "\n",
    "tokenizer = tfds.features.text.Tokenizer()\n",
    "valtest=[]\n",
    "\n",
    "valList =[]\n",
    "with open('/home/jupyter/input/clevr-dataset/CLEVR_v1.0/questions/CLEVR_train_questions.json') as f:\n",
    "    print('oi')\n",
    "    data = json.load(f)\n",
    "   \n",
    "    print(int(len(data['questions'])))\n",
    "    for K in range(int(len(data['questions']))):\n",
    "        i = data['questions'][K]\n",
    "        temp=[]\n",
    "        for path in glob.glob('/home/jupyter/input/clevr-dataset/CLEVR_v1.0/images/train/'+i['image_filename']): \n",
    "            temp.append(path)\n",
    "        temp.append(i['question'])\n",
    "        temp.append(i['answer'])\n",
    "        valtest.append(temp)\n",
    "   \n",
    "f.close()\n",
    "labels=['Path','Question','Answer']\n",
    "train_dataframe2 = pd.DataFrame.from_records(valtest, columns=labels)#training Dataframe \n",
    "del(data)\n",
    "del(valtest)\n",
    "print('fim')\n",
    "\n",
    "valList=[]\n",
    "with open('/home/jupyter/input/clevr-dataset/CLEVR_v1.0/questions/CLEVR_val_questions.json') as f:\n",
    "    data = json.load(f)\n",
    "    lenghtDataVal = int(len(data['questions']) * (percentageData/100))\n",
    "    for K in range(int(len(data['questions']))):\n",
    "        i = data['questions'][K]\n",
    "        temp=[]\n",
    "        for path in glob.glob('/home/jupyter/input/clevr-dataset/CLEVR_v1.0/images/val/'+i['image_filename']): \n",
    "            temp.append(path)\n",
    "        temp.append(i['question'])\n",
    "        temp.append(i['answer'])\n",
    "        valList.append(temp)\n",
    "        \n",
    "f.close() \n",
    "\n",
    "val_dataframe2 = pd.DataFrame.from_records(valList, columns=labels)#validation Dataframe\n",
    "\n",
    "\n",
    "\n",
    "\n",
    "for i in val_dataframe2['Question']:\n",
    "    vocab_set.update(tokenizer.tokenize(i))\n",
    "for i in train_dataframe2['Question']:\n",
    "    vocab_set.update(tokenizer.tokenize(i))\n",
    "for i in val_dataframe2['Answer']:\n",
    "    vocab_set.update(tokenizer.tokenize(i))\n",
    "for i in train_dataframe2['Answer']:\n",
    "    vocab_set.update(tokenizer.tokenize(i))\n",
    "    \n",
    "vocab_set.update('12aaaa')\n",
    "vocab_set.update('1234sssa')\n",
    "\n",
    "#\n",
    "#Creating an Encoder and a Function to preprocess the text data during the training and inference    \n",
    "    \n",
    "encoder=tfds.features.text.TokenTextEncoder(vocab_set)\n",
    "index=2\n",
    "print(\"Testing the Encoder with sample questions - \\n \")\n",
    "example_text=encoder.encode(train_dataframe['Question'][index])\n",
    "print(\"Original Text = \"+train_dataframe['Question'][index])\n",
    "print(\"After Encoding = \"+str(example_text))\n"
   ]
  },
  {
   "cell_type": "code",
   "execution_count": 9,
   "id": "f9509b87",
   "metadata": {},
   "outputs": [
    {
     "name": "stdout",
     "output_type": "stream",
     "text": [
      "101\n"
     ]
    }
   ],
   "source": [
    "print(len(vocab_set))"
   ]
  },
  {
   "cell_type": "code",
   "execution_count": 10,
   "id": "19412ea5",
   "metadata": {},
   "outputs": [
    {
     "name": "stdout",
     "output_type": "stream",
     "text": [
      "gravar arquivo: Val_pos_149.json qtd: 149\n",
      "gravar arquivo: Train_pos_699.json qtd: 699\n",
      "gravar arquivo: Vocab_set_101.json qtd: 101\n"
     ]
    }
   ],
   "source": [
    "GravarArquivo(posValList,'Val_pos' )\n",
    "GravarArquivo(posTrainList,'Train_pos' )\n",
    "GravarArquivo(list(vocab_set), 'Vocab_set' )\n",
    "\n"
   ]
  },
  {
   "cell_type": "code",
   "execution_count": 11,
   "id": "df97225e",
   "metadata": {},
   "outputs": [
    {
     "name": "stderr",
     "output_type": "stream",
     "text": [
      "2021-08-20 03:39:14.630670: I tensorflow/core/platform/cpu_feature_guard.cc:142] This TensorFlow binary is optimized with oneAPI Deep Neural Network Library (oneDNN) to use the following CPU instructions in performance-critical operations:  AVX2 FMA\n",
      "To enable them in other operations, rebuild TensorFlow with the appropriate compiler flags.\n",
      "2021-08-20 03:39:14.657461: I tensorflow/compiler/jit/xla_gpu_device.cc:99] Not creating XLA devices, tf_xla_enable_xla_devices not set\n"
     ]
    },
    {
     "name": "stdout",
     "output_type": "stream",
     "text": [
      "Tensor(\"EagerPyFunc_1:0\", shape=(1,), dtype=int32, device=/job:localhost/replica:0/task:0)\n",
      "Tensor(\"EagerPyFunc_1:0\", shape=(1,), dtype=int32, device=/job:localhost/replica:0/task:0)\n"
     ]
    }
   ],
   "source": [
    "\n",
    "#Function that uses the encoder created to encode the input question and answer string\n",
    "def encode_fn(text):\n",
    "    return np.array(encoder.encode(text.numpy()))\n",
    "\n",
    "\n",
    "#Function to load and decode the image from the file paths in the dataframe and use the encoder function\n",
    "def preprocess(ip,ans):\n",
    "    img,ques=ip#ip is a list containing image paths and questions\n",
    "    img=tf.io.read_file(img)\n",
    "    img=tf.image.decode_jpeg(img,channels=3)\n",
    "    # quantos canais de cores tem \n",
    "    img=tf.image.resize(img,IMG_SIZE)\n",
    "    img=tf.math.divide(img, 255)# \n",
    "    #The question string is converted to encoded list with fixed size of 50 with padding with 0 value\n",
    "    ques=tf.py_function(encode_fn,inp=[ques],Tout=tf.int32)\n",
    "    paddings = [[0, 50-tf.shape(ques)[0]]]\n",
    "    ques = tf.pad(ques, paddings, 'CONSTANT', constant_values=0)\n",
    "    ques.set_shape([50])#Explicit shape must be defined in order to create the Input pipeline\n",
    "    \n",
    "    #The Answer is also encoded \n",
    "    ans=tf.py_function(encode_fn,inp=[ans],Tout=tf.int32)\n",
    "    ans.set_shape([1])\n",
    "    print(ans)\n",
    "    return (img,ques),ans\n",
    "    \n",
    "def create_pipeline(dataframe):\n",
    "    raw_df=tf.data.Dataset.from_tensor_slices(((dataframe['Path'],dataframe['Question']),dataframe['Answer']))\n",
    "    df=raw_df.map(preprocess)#Preprocessing function is applied to the dataset\n",
    "    df=df.batch(BATCH_SIZE)#The dataset is batched\n",
    "    return df\n",
    "\n",
    "#The training and validation Dataset objects are created\n",
    "train_dataset=create_pipeline(train_dataframe)\n",
    "validation_dataset=create_pipeline(val_dataframe)"
   ]
  },
  {
   "cell_type": "code",
   "execution_count": 12,
   "id": "531f38d9",
   "metadata": {},
   "outputs": [
    {
     "name": "stdout",
     "output_type": "stream",
     "text": [
      "Model: \"model\"\n",
      "__________________________________________________________________________________________________\n",
      "Layer (type)                    Output Shape         Param #     Connected to                     \n",
      "==================================================================================================\n",
      "text_input (InputLayer)         [(None, 50)]         0                                            \n",
      "__________________________________________________________________________________________________\n",
      "embedding (Embedding)           (None, 50, 256)      26112       text_input[0][0]                 \n",
      "__________________________________________________________________________________________________\n",
      "image_input (InputLayer)        [(None, 200, 200, 3) 0                                            \n",
      "__________________________________________________________________________________________________\n",
      "bidirectional (Bidirectional)   (None, 50, 512)      1050624     embedding[0][0]                  \n",
      "__________________________________________________________________________________________________\n",
      "mobilenetv2_1.00_224 (Functiona (None, 7, 7, 1280)   2257984     image_input[0][0]                \n",
      "__________________________________________________________________________________________________\n",
      "bidirectional_1 (Bidirectional) (None, 50, 512)      1574912     bidirectional[0][0]              \n",
      "__________________________________________________________________________________________________\n",
      "global_average_pooling2d (Globa (None, 1280)         0           mobilenetv2_1.00_224[0][0]       \n",
      "__________________________________________________________________________________________________\n",
      "bidirectional_2 (Bidirectional) (None, 1024)         4198400     bidirectional_1[0][0]            \n",
      "__________________________________________________________________________________________________\n",
      "concatenate (Concatenate)       (None, 2304)         0           global_average_pooling2d[0][0]   \n",
      "                                                                 bidirectional_2[0][0]            \n",
      "__________________________________________________________________________________________________\n",
      "output (Dense)                  (None, 102)          235110      concatenate[0][0]                \n",
      "==================================================================================================\n",
      "Total params: 9,343,142\n",
      "Trainable params: 9,309,030\n",
      "Non-trainable params: 34,112\n",
      "__________________________________________________________________________________________________\n"
     ]
    },
    {
     "data": {
      "image/png": "[encoded data removed]",
      "text/plain": [
       "<IPython.core.display.Image object>"
      ]
     },
     "execution_count": 12,
     "metadata": {},
     "output_type": "execute_result"
    }
   ],
   "source": [
    "#Creating the CNN model for image processing\n",
    "\n",
    "\n",
    "CNN_Input=tf.keras.layers.Input(shape=(200,200,3),name='image_input')\n",
    "\n",
    "mobilenetv2=tf.keras.applications.mobilenet_v2.MobileNetV2(input_shape=(200,200,3), alpha=1.0, include_top=False,\n",
    "                                                      weights='imagenet', input_tensor=CNN_Input)\n",
    "\n",
    "CNN_model=tf.keras.models.Sequential()\n",
    "CNN_model.add(CNN_Input)\n",
    "CNN_model.add(mobilenetv2)\n",
    "CNN_model.add(tf.keras.layers.GlobalAveragePooling2D())\n",
    "\n",
    "\n",
    "\n",
    "#Creating the RNN model for text processing\n",
    "RNN_model=tf.keras.models.Sequential()\n",
    "\n",
    "RNN_Input=tf.keras.layers.Input(shape=(50),name='text_input')\n",
    "RNN_model.add(RNN_Input)\n",
    "RNN_model.add(tf.keras.layers.Embedding (len(vocab_set)+1,256))\n",
    "RNN_model.add(tf.keras.layers.Bidirectional(tf.keras.layers.LSTM(256,return_sequences=True,recurrent_initializer='glorot_uniform')))\n",
    "RNN_model.add(tf.keras.layers.Bidirectional(tf.keras.layers.LSTM(256,return_sequences=True,recurrent_initializer='glorot_uniform')))\n",
    "RNN_model.add(tf.keras.layers.Bidirectional(tf.keras.layers.LSTM(512,return_sequences=False,recurrent_initializer='glorot_uniform')))\n",
    "\n",
    "\n",
    "concat=tf.keras.layers.concatenate([CNN_model.output,RNN_model.output])\n",
    "dense_out=tf.keras.layers.Dense(len(vocab_set)+1,activation='softmax',name='output')(concat)\n",
    "\n",
    "model = tf.keras.Model(inputs=[CNN_Input,RNN_Input],\n",
    "                    outputs=dense_out)\n",
    "model.compile(optimizer='adam',loss='sparse_categorical_crossentropy',\n",
    "              metrics=[tf.keras.metrics.SparseCategoricalAccuracy()])\n",
    "\n",
    "\n",
    "model.summary()\n",
    "tf.keras.utils.plot_model(model, show_shapes=True, show_layer_names=True)"
   ]
  },
  {
   "cell_type": "code",
   "execution_count": 13,
   "id": "5da6df77",
   "metadata": {},
   "outputs": [
    {
     "name": "stdout",
     "output_type": "stream",
     "text": [
      "6990\n",
      "10\n",
      "699\n"
     ]
    }
   ],
   "source": [
    "print(QtdEpocasGravarCHKP*lenghtDataTrain)\n",
    "print(QtdEpocasGravarCHKP)\n",
    "print(lenghtDataTrain)"
   ]
  },
  {
   "cell_type": "code",
   "execution_count": null,
   "id": "7696bacc",
   "metadata": {},
   "outputs": [
    {
     "name": "stdout",
     "output_type": "stream",
     "text": [
      "6990\n"
     ]
    },
    {
     "name": "stderr",
     "output_type": "stream",
     "text": [
      "2021-08-20 03:39:23.906296: I tensorflow/compiler/mlir/mlir_graph_optimization_pass.cc:116] None of the MLIR optimization passes are enabled (registered 2)\n",
      "2021-08-20 03:39:23.911464: I tensorflow/core/platform/profile_utils/cpu_utils.cc:112] CPU Frequency: 2200155000 Hz\n"
     ]
    },
    {
     "name": "stdout",
     "output_type": "stream",
     "text": [
      "Epoch 1/60\n",
      "308/699 [============>.................] - ETA: 4:51 - loss: 3.5366 - sparse_categorical_accuracy: 0.1657"
     ]
    }
   ],
   "source": [
    "\n",
    "\n",
    "def scheduler(epoch):\n",
    "  if epoch < 1:\n",
    "    return 0.001\n",
    "  else:\n",
    "    return 0.001 * tf.math.exp(0.1 * (1 - epoch))\n",
    "\n",
    "checkpoint_path = 'Percentage_'+ str(percentageData) + '/weights-{epoch:03d}.ckpt'\n",
    "checkpoint_dir = os.path.dirname(checkpoint_path)\n",
    "\n",
    "# Create a callback that saves the model's weights\n",
    "cp_callback = tf.keras.callbacks.ModelCheckpoint(\n",
    "    filepath=checkpoint_path, \n",
    "    verbose=1, \n",
    "    save_weights_only=True,\n",
    "    save_freq=QtdEpocasGravarCHKP*lenghtDataTrain)\n",
    "\n",
    "print(QtdEpocasGravarCHKP*lenghtDataTrain)\n",
    "\n",
    "#LRS = tf.keras.callbacks.LearningRateScheduler(scheduler)\n",
    "csv_callback=tf.keras.callbacks.CSVLogger(\n",
    "   'Percentage_'+ str(percentageData) + '/'+ \"Training Parameters.csv\",\n",
    "    separator=',', append=False\n",
    ")\n",
    "\n",
    "\n",
    "with tf.device(device) :\n",
    "    history =  model.fit(train_dataset,\n",
    "              validation_data=validation_dataset,\n",
    "              callbacks=[csv_callback,cp_callback],\n",
    "              epochs=Epochs)\n",
    "\n",
    "\n",
    "hist = pd.DataFrame(history.history)\n",
    "hist['epoch'] = history.epoch\n",
    "history.history\n",
    "hist.tail()\n",
    "#plot_loss(history)\n",
    "#plot_acc(history)\n"
   ]
  },
  {
   "cell_type": "code",
   "execution_count": null,
   "id": "c46c1251",
   "metadata": {},
   "outputs": [],
   "source": [
    "hist = pd.DataFrame(history.history)\n",
    "hist['epoch'] = history.epoch\n",
    "history.history\n",
    "hist.tail()\n",
    "plot_loss(history)\n",
    "plot_acc(history)"
   ]
  },
  {
   "cell_type": "code",
   "execution_count": null,
   "id": "958da43a",
   "metadata": {},
   "outputs": [],
   "source": [
    "print (' *************** vocab se *************************')\n",
    "for voc in vocab_set:\n",
    " print(voc)\n"
   ]
  },
  {
   "cell_type": "code",
   "execution_count": null,
   "id": "5e22efbf",
   "metadata": {},
   "outputs": [],
   "source": [
    "contadorCerto =0\n",
    "contadorErro =0 \n",
    "ArrayQuestoesCertas =[]\n",
    "ArrarQuestoesErradas=[]\n",
    "\n",
    "for contador in range(lenghtDataTrain) :\n",
    "   \n",
    "    im=cv2.imread(train_dataframe.iloc[contador]['Path'])\n",
    "    im=cv2.resize(im,(200,200))\n",
    "    q=train_dataframe.iloc[contador]['Question'] \n",
    "    q=encoder.encode(q)\n",
    "    paddings = [[0, 50-tf.shape(q)[0]]]\n",
    "    q=tf.pad(q, paddings, 'CONSTANT', constant_values=0)\n",
    "    q=np.array(q)\n",
    "    im.resize(1,200,200,3)\n",
    "    q.resize(1,50)\n",
    "    ans=model.predict([im,q]) \n",
    "    decodAns = encoder.decode([np.argmax(ans)])\n",
    "        \n",
    "    \n",
    "    if train_dataframe.iloc[contador]['Answer'] != decodAns :\n",
    "        ArrarQuestoesErradas.append (\"qestão numero : \" + str(contador))\n",
    "        ArrarQuestoesErradas.append(train_dataframe.iloc[contador]['Question'])\n",
    "        ArrarQuestoesErradas.append('Repost errada: ' +decodAns + \" resp certa:\" + train_dataframe.iloc[contador]['Answer']) \n",
    "        contadorErro = contadorErro +1\n",
    "    else:\n",
    "        ArrayQuestoesCertas.append(\"qestão numero : \" + str(contador))\n",
    "        ArrayQuestoesCertas.append(train_dataframe.iloc[contador]['Question'])\n",
    "        ArrayQuestoesCertas.append(  decodAns)\n",
    "        ArrayQuestoesCertas.append(train_dataframe.iloc[contador]['Answer'])\n",
    "        contadorCerto = contadorCerto +1\n",
    "\n",
    "    "
   ]
  },
  {
   "cell_type": "code",
   "execution_count": null,
   "id": "7e984710",
   "metadata": {},
   "outputs": [],
   "source": [
    "print( \"questoes certas\" + str(contadorCerto))\n",
    "print( \"questoes erradas\" + str(contadorErro))\n",
    "VerifTrainList=[]\n",
    "VerifTrainList.append(\"Acerto - \" + str(contadorCerto))\n",
    "VerifTrainList.append(\"Erro - \" + str(contadorErro ))\n",
    "GravarArquivo(VerifTrainList,'Verif_Train_resumo' )\n",
    "GravarArquivo(ArrayQuestoesCertas,'Verif_train_questoescertas' )\n",
    "GravarArquivo(ArrarQuestoesErradas,'Verif_train_questoeserradas' )\n"
   ]
  },
  {
   "cell_type": "code",
   "execution_count": null,
   "id": "38a60748",
   "metadata": {},
   "outputs": [],
   "source": [
    "contadorCerto =0\n",
    "contadorErro =0 \n",
    "ArrayQuestoesCertas =[]\n",
    "ArrarQuestoesErradas=[]\n",
    "\n",
    "for contador in range(lenghtDataVal) :\n",
    "   \n",
    "    im=cv2.imread(val_dataframe.iloc[contador]['Path'])\n",
    "    im=cv2.resize(im,(200,200))\n",
    "    q=val_dataframe.iloc[contador]['Question'] \n",
    "    q=encoder.encode(q)\n",
    "    paddings = [[0, 50-tf.shape(q)[0]]]\n",
    "    q=tf.pad(q, paddings, 'CONSTANT', constant_values=0)\n",
    "    q=np.array(q)\n",
    "    im.resize(1,200,200,3)\n",
    "    q.resize(1,50)\n",
    "    ans=model.predict([im,q]) \n",
    "    decodAns = encoder.decode([np.argmax(ans)])\n",
    "    if val_dataframe.iloc[contador]['Answer'] != decodAns :\n",
    "        ArrarQuestoesErradas.append (\"qestão numero : \" + str(contador))\n",
    "        ArrarQuestoesErradas.append(val_dataframe.iloc[contador]['Question'])\n",
    "        ArrarQuestoesErradas.append( \" errado - \" + decodAns + \" certo - \" + val_dataframe.iloc[contador]['Answer'] )\n",
    "              \n",
    "        contadorErro = contadorErro +1\n",
    "    else:\n",
    "        ArrayQuestoesCertas.append (\"qestão numero : \" + str(contador))\n",
    "        ArrayQuestoesCertas.append(val_dataframe.iloc[contador]['Question'])\n",
    "        ArrayQuestoesCertas.append(decodAns)\n",
    "        ArrayQuestoesCertas.append(val_dataframe.iloc[contador]['Answer'])\n",
    "       \n",
    "        contadorCerto = contadorCerto +1\n",
    "      \n",
    "\n",
    "    "
   ]
  },
  {
   "cell_type": "code",
   "execution_count": null,
   "id": "099e122c",
   "metadata": {},
   "outputs": [],
   "source": [
    "VerifValList=[]\n",
    "print(\"certo : \" + str(contadorCerto))\n",
    "print(\"erro : \" + str(contadorErro))\n",
    "VerifValList.append(\"Acerto - \" + str(contadorCerto))\n",
    "VerifValList.append(\"Erro - \" + str(contadorErro ))\n",
    "GravarArquivo(VerifValList,'Verif_Val_resumo' )\n",
    "GravarArquivo(ArrayQuestoesCertas,'Verif_val_questoescertas' )\n",
    "GravarArquivo(ArrarQuestoesErradas,'Verif_val_questoeserradas' )"
   ]
  },
  {
   "cell_type": "code",
   "execution_count": null,
   "id": "44364388",
   "metadata": {},
   "outputs": [],
   "source": [
    "tf.keras.models.save_model(model,'Percentage_'+ str(percentageData) +  '/ModelTreinamento')"
   ]
  },
  {
   "cell_type": "code",
   "execution_count": null,
   "id": "6776cc89",
   "metadata": {},
   "outputs": [],
   "source": [
    "import pickle\n",
    "\n",
    "with open('Percentage_'+ str(percentageData) +  '/train_dataframe', \"wb\") as f:\n",
    "    pickle.dump(train_dataframe, f)\n",
    "with open('Percentage_'+ str(percentageData) +  '/encoder', \"wb\") as f:\n",
    "    pickle.dump(encoder, f)\n",
    "\n",
    "with open('Percentage_'+ str(percentageData) +  '/val_dataframe', \"wb\") as f:\n",
    "    pickle.dump(val_dataframe, f)\n"
   ]
  },
  {
   "cell_type": "code",
   "execution_count": null,
   "id": "172fd5a0",
   "metadata": {},
   "outputs": [],
   "source": []
  },
  {
   "cell_type": "code",
   "execution_count": null,
   "id": "513f57de",
   "metadata": {},
   "outputs": [],
   "source": []
  },
  {
   "cell_type": "code",
   "execution_count": null,
   "id": "f7083c56",
   "metadata": {},
   "outputs": [],
   "source": []
  }
 ],
 "metadata": {
  "kernelspec": {
   "display_name": "Python 3 (ipykernel)",
   "language": "python",
   "name": "python3"
  },
  "language_info": {
   "codemirror_mode": {
    "name": "ipython",
    "version": 3
   },
   "file_extension": ".py",
   "mimetype": "text/x-python",
   "name": "python",
   "nbconvert_exporter": "python",
   "pygments_lexer": "ipython3",
   "version": "3.7.10"
  }
 },
 "nbformat": 4,
 "nbformat_minor": 5
}
